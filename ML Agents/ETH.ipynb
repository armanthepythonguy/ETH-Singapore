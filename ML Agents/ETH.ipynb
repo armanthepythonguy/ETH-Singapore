{
 "cells": [
  {
   "cell_type": "code",
   "execution_count": null,
   "metadata": {},
   "outputs": [],
   "source": [
    "!pip install yfinance"
   ]
  },
  {
   "cell_type": "code",
   "execution_count": 3,
   "metadata": {},
   "outputs": [],
   "source": [
    "import yfinance as YahooFinance\n",
    "import pandas as pd\n",
    "import datetime\n",
    "from sklearn.preprocessing import MinMaxScaler\n",
    "import numpy as np"
   ]
  },
  {
   "cell_type": "code",
   "execution_count": 4,
   "metadata": {},
   "outputs": [],
   "source": [
    "eth_information = YahooFinance.Ticker(\"BTC-USD\")\n",
    "startDate = datetime.datetime(2015, 5, 31)\n",
    "endDate = datetime.datetime(2024, 1, 30)\n",
    "df = eth_information.history(start=startDate, end=endDate)"
   ]
  },
  {
   "cell_type": "code",
   "execution_count": 5,
   "metadata": {},
   "outputs": [
    {
     "data": {
      "text/html": [
       "<div>\n",
       "<style scoped>\n",
       "    .dataframe tbody tr th:only-of-type {\n",
       "        vertical-align: middle;\n",
       "    }\n",
       "\n",
       "    .dataframe tbody tr th {\n",
       "        vertical-align: top;\n",
       "    }\n",
       "\n",
       "    .dataframe thead th {\n",
       "        text-align: right;\n",
       "    }\n",
       "</style>\n",
       "<table border=\"1\" class=\"dataframe\">\n",
       "  <thead>\n",
       "    <tr style=\"text-align: right;\">\n",
       "      <th></th>\n",
       "      <th>Open</th>\n",
       "      <th>High</th>\n",
       "      <th>Low</th>\n",
       "      <th>Close</th>\n",
       "      <th>Volume</th>\n",
       "      <th>Dividends</th>\n",
       "      <th>Stock Splits</th>\n",
       "    </tr>\n",
       "    <tr>\n",
       "      <th>Date</th>\n",
       "      <th></th>\n",
       "      <th></th>\n",
       "      <th></th>\n",
       "      <th></th>\n",
       "      <th></th>\n",
       "      <th></th>\n",
       "      <th></th>\n",
       "    </tr>\n",
       "  </thead>\n",
       "  <tbody>\n",
       "    <tr>\n",
       "      <th>2015-05-31 00:00:00+00:00</th>\n",
       "      <td>233.134995</td>\n",
       "      <td>233.251999</td>\n",
       "      <td>229.542007</td>\n",
       "      <td>230.190002</td>\n",
       "      <td>14730800</td>\n",
       "      <td>0.0</td>\n",
       "      <td>0.0</td>\n",
       "    </tr>\n",
       "    <tr>\n",
       "      <th>2015-06-01 00:00:00+00:00</th>\n",
       "      <td>230.233002</td>\n",
       "      <td>231.712997</td>\n",
       "      <td>221.296005</td>\n",
       "      <td>222.925995</td>\n",
       "      <td>26090500</td>\n",
       "      <td>0.0</td>\n",
       "      <td>0.0</td>\n",
       "    </tr>\n",
       "    <tr>\n",
       "      <th>2015-06-02 00:00:00+00:00</th>\n",
       "      <td>222.893997</td>\n",
       "      <td>226.416000</td>\n",
       "      <td>222.419006</td>\n",
       "      <td>225.802994</td>\n",
       "      <td>20459000</td>\n",
       "      <td>0.0</td>\n",
       "      <td>0.0</td>\n",
       "    </tr>\n",
       "    <tr>\n",
       "      <th>2015-06-03 00:00:00+00:00</th>\n",
       "      <td>225.735992</td>\n",
       "      <td>227.404007</td>\n",
       "      <td>223.929993</td>\n",
       "      <td>225.873993</td>\n",
       "      <td>17752400</td>\n",
       "      <td>0.0</td>\n",
       "      <td>0.0</td>\n",
       "    </tr>\n",
       "    <tr>\n",
       "      <th>2015-06-04 00:00:00+00:00</th>\n",
       "      <td>225.772003</td>\n",
       "      <td>226.580994</td>\n",
       "      <td>224.054001</td>\n",
       "      <td>224.324005</td>\n",
       "      <td>14728100</td>\n",
       "      <td>0.0</td>\n",
       "      <td>0.0</td>\n",
       "    </tr>\n",
       "  </tbody>\n",
       "</table>\n",
       "</div>"
      ],
      "text/plain": [
       "                                 Open        High         Low       Close  \\\n",
       "Date                                                                        \n",
       "2015-05-31 00:00:00+00:00  233.134995  233.251999  229.542007  230.190002   \n",
       "2015-06-01 00:00:00+00:00  230.233002  231.712997  221.296005  222.925995   \n",
       "2015-06-02 00:00:00+00:00  222.893997  226.416000  222.419006  225.802994   \n",
       "2015-06-03 00:00:00+00:00  225.735992  227.404007  223.929993  225.873993   \n",
       "2015-06-04 00:00:00+00:00  225.772003  226.580994  224.054001  224.324005   \n",
       "\n",
       "                             Volume  Dividends  Stock Splits  \n",
       "Date                                                          \n",
       "2015-05-31 00:00:00+00:00  14730800        0.0           0.0  \n",
       "2015-06-01 00:00:00+00:00  26090500        0.0           0.0  \n",
       "2015-06-02 00:00:00+00:00  20459000        0.0           0.0  \n",
       "2015-06-03 00:00:00+00:00  17752400        0.0           0.0  \n",
       "2015-06-04 00:00:00+00:00  14728100        0.0           0.0  "
      ]
     },
     "execution_count": 5,
     "metadata": {},
     "output_type": "execute_result"
    }
   ],
   "source": [
    "df.head()"
   ]
  },
  {
   "cell_type": "code",
   "execution_count": 6,
   "metadata": {},
   "outputs": [],
   "source": [
    "df = df.drop([\"Dividends\", \"Stock Splits\", \"Open\", \"High\", \"Low\"], axis=1)"
   ]
  },
  {
   "cell_type": "code",
   "execution_count": 7,
   "metadata": {},
   "outputs": [],
   "source": [
    "data = df[[\"Close\"]]\n",
    "data['prediction'] = (data['Close'] >= df['Close'].shift(15) * 1.05).astype(int)"
   ]
  },
  {
   "cell_type": "code",
   "execution_count": 8,
   "metadata": {},
   "outputs": [],
   "source": [
    "scaler = MinMaxScaler()\n",
    "\n",
    "# Scale only the features we need for the LSTM (price, volume)\n",
    "data[['Close']] = scaler.fit_transform(df[['Close']])\n",
    "\n",
    "# Define the window length (15 days)\n",
    "window_length = 15\n",
    "\n",
    "# Prepare features (price and volume over the last 15 days) and targets (prediction)\n",
    "def create_sequences(df, window_length):\n",
    "    X, y = [], []\n",
    "    for i in range(len(df) - window_length):\n",
    "        X.append(data[['Close']].iloc[i:i + window_length].values)\n",
    "        y.append(data['prediction'].iloc[i + window_length])\n",
    "    return np.array(X), np.array(y)\n",
    "\n",
    "# Create sequences from the data\n",
    "X, y = create_sequences(df, window_length)"
   ]
  },
  {
   "cell_type": "code",
   "execution_count": 7,
   "metadata": {},
   "outputs": [],
   "source": [
    "import tensorflow as tf\n",
    "from tensorflow.keras.models import Sequential\n",
    "from tensorflow.keras.layers import LSTM, Dense, Dropout, Flatten"
   ]
  },
  {
   "cell_type": "code",
   "execution_count": 8,
   "metadata": {},
   "outputs": [
    {
     "name": "stdout",
     "output_type": "stream",
     "text": [
      "Epoch 1/10\n"
     ]
    },
    {
     "name": "stderr",
     "output_type": "stream",
     "text": [
      "/Library/Frameworks/Python.framework/Versions/3.11/lib/python3.11/site-packages/keras/src/layers/core/dense.py:87: UserWarning: Do not pass an `input_shape`/`input_dim` argument to a layer. When using Sequential models, prefer using an `Input(shape)` object as the first layer in the model instead.\n",
      "  super().__init__(activity_regularizer=activity_regularizer, **kwargs)\n"
     ]
    },
    {
     "name": "stdout",
     "output_type": "stream",
     "text": [
      "\u001b[1m79/79\u001b[0m \u001b[32m━━━━━━━━━━━━━━━━━━━━\u001b[0m\u001b[37m\u001b[0m \u001b[1m1s\u001b[0m 2ms/step - accuracy: 0.5430 - loss: 2.0894 - val_accuracy: 0.7813 - val_loss: 0.5070\n",
      "Epoch 2/10\n",
      "\u001b[1m79/79\u001b[0m \u001b[32m━━━━━━━━━━━━━━━━━━━━\u001b[0m\u001b[37m\u001b[0m \u001b[1m0s\u001b[0m 672us/step - accuracy: 0.6743 - loss: 0.5802 - val_accuracy: 0.8114 - val_loss: 0.4105\n",
      "Epoch 3/10\n",
      "\u001b[1m79/79\u001b[0m \u001b[32m━━━━━━━━━━━━━━━━━━━━\u001b[0m\u001b[37m\u001b[0m \u001b[1m0s\u001b[0m 687us/step - accuracy: 0.6915 - loss: 0.6974 - val_accuracy: 0.8637 - val_loss: 0.4197\n",
      "Epoch 4/10\n",
      "\u001b[1m79/79\u001b[0m \u001b[32m━━━━━━━━━━━━━━━━━━━━\u001b[0m\u001b[37m\u001b[0m \u001b[1m0s\u001b[0m 709us/step - accuracy: 0.7282 - loss: 0.5723 - val_accuracy: 0.7179 - val_loss: 4.5468\n",
      "Epoch 5/10\n",
      "\u001b[1m79/79\u001b[0m \u001b[32m━━━━━━━━━━━━━━━━━━━━\u001b[0m\u001b[37m\u001b[0m \u001b[1m0s\u001b[0m 672us/step - accuracy: 0.5891 - loss: 1.7863 - val_accuracy: 0.7971 - val_loss: 0.4420\n",
      "Epoch 6/10\n",
      "\u001b[1m79/79\u001b[0m \u001b[32m━━━━━━━━━━━━━━━━━━━━\u001b[0m\u001b[37m\u001b[0m \u001b[1m0s\u001b[0m 664us/step - accuracy: 0.7071 - loss: 0.5589 - val_accuracy: 0.8700 - val_loss: 0.4509\n",
      "Epoch 7/10\n",
      "\u001b[1m79/79\u001b[0m \u001b[32m━━━━━━━━━━━━━━━━━━━━\u001b[0m\u001b[37m\u001b[0m \u001b[1m0s\u001b[0m 669us/step - accuracy: 0.7257 - loss: 0.5735 - val_accuracy: 0.8019 - val_loss: 0.3940\n",
      "Epoch 8/10\n",
      "\u001b[1m79/79\u001b[0m \u001b[32m━━━━━━━━━━━━━━━━━━━━\u001b[0m\u001b[37m\u001b[0m \u001b[1m0s\u001b[0m 684us/step - accuracy: 0.7143 - loss: 0.5348 - val_accuracy: 0.8225 - val_loss: 0.3651\n",
      "Epoch 9/10\n",
      "\u001b[1m79/79\u001b[0m \u001b[32m━━━━━━━━━━━━━━━━━━━━\u001b[0m\u001b[37m\u001b[0m \u001b[1m0s\u001b[0m 673us/step - accuracy: 0.7482 - loss: 0.5209 - val_accuracy: 0.6799 - val_loss: 0.5528\n",
      "Epoch 10/10\n",
      "\u001b[1m79/79\u001b[0m \u001b[32m━━━━━━━━━━━━━━━━━━━━\u001b[0m\u001b[37m\u001b[0m \u001b[1m0s\u001b[0m 665us/step - accuracy: 0.6892 - loss: 1.3232 - val_accuracy: 0.7179 - val_loss: 4.5468\n"
     ]
    }
   ],
   "source": [
    "model = Sequential()\n",
    "\n",
    "model.add(Dense(units=64, input_shape=(window_length, )))\n",
    "model.add(Dense(32))\n",
    "model.add(Dense(16))\n",
    "model.add(Dense(8))\n",
    "model.add(Dense(4))\n",
    "# model.add(Flatten())\n",
    "model.add(Dense(units=1))\n",
    "\n",
    "model.compile(optimizer='adam', loss='binary_crossentropy', metrics=['accuracy'])\n",
    "\n",
    "history = model.fit(X, y, epochs=10, batch_size=32, validation_split=0.2)"
   ]
  },
  {
   "cell_type": "code",
   "execution_count": 9,
   "metadata": {},
   "outputs": [
    {
     "name": "stdout",
     "output_type": "stream",
     "text": [
      "\u001b[1m99/99\u001b[0m \u001b[32m━━━━━━━━━━━━━━━━━━━━\u001b[0m\u001b[37m\u001b[0m \u001b[1m0s\u001b[0m 505us/step\n",
      "INFO:tensorflow:Assets written to: model/assets\n"
     ]
    },
    {
     "name": "stderr",
     "output_type": "stream",
     "text": [
      "INFO:tensorflow:Assets written to: model/assets\n"
     ]
    }
   ],
   "source": [
    "predictions = model.predict(X)\n",
    "predictions_binary = (predictions > 0.5).astype(int)\n",
    "tf.saved_model.save(model, 'model')"
   ]
  },
  {
   "cell_type": "code",
   "execution_count": 40,
   "metadata": {},
   "outputs": [],
   "source": [
    "import tf2onnx"
   ]
  },
  {
   "cell_type": "code",
   "execution_count": 10,
   "metadata": {},
   "outputs": [
    {
     "name": "stdout",
     "output_type": "stream",
     "text": [
      "<frozen runpy>:128: RuntimeWarning: 'tf2onnx.convert' found in sys.modules after import of package 'tf2onnx', but prior to execution of 'tf2onnx.convert'; this may result in unpredictable behaviour\n",
      "2024-09-21 11:12:29,413 - WARNING - '--tag' not specified for saved_model. Using --tag serve\n",
      "2024-09-21 11:12:29,531 - INFO - Signatures found in model: [serving_default].\n",
      "2024-09-21 11:12:29,531 - WARNING - '--signature_def' not specified, using first signature: serving_default\n",
      "2024-09-21 11:12:29,531 - INFO - Output names: ['output_0']\n",
      "WARNING: All log messages before absl::InitializeLog() is called are written to STDERR\n",
      "I0000 00:00:1726888349.532480 51779846 devices.cc:76] Number of eligible GPUs (core count >= 8, compute capability >= 0.0): 0 (Note: TensorFlow was not compiled with CUDA or ROCm support)\n",
      "I0000 00:00:1726888349.606256 51779846 devices.cc:76] Number of eligible GPUs (core count >= 8, compute capability >= 0.0): 0 (Note: TensorFlow was not compiled with CUDA or ROCm support)\n",
      "2024-09-21 11:12:29,617 - INFO - Using tensorflow=2.17.0, onnx=1.16.2, tf2onnx=1.16.1/15c810\n",
      "2024-09-21 11:12:29,617 - INFO - Using opset <onnx, 15>\n",
      "2024-09-21 11:12:29,620 - INFO - Computed 0 values for constant folding\n",
      "2024-09-21 11:12:29,632 - INFO - Optimizing ONNX model\n",
      "2024-09-21 11:12:29,654 - INFO - After optimization: Identity -2 (2->0)\n",
      "2024-09-21 11:12:29,658 - INFO - \n",
      "2024-09-21 11:12:29,658 - INFO - Successfully converted TensorFlow model model to ONNX\n",
      "2024-09-21 11:12:29,658 - INFO - Model inputs: ['inputs']\n",
      "2024-09-21 11:12:29,658 - INFO - Model outputs: ['output_0']\n",
      "2024-09-21 11:12:29,658 - INFO - ONNX model is saved at model.onnx\n"
     ]
    }
   ],
   "source": [
    "!python3 -m tf2onnx.convert --saved-model model --output model.onnx"
   ]
  },
  {
   "cell_type": "code",
   "execution_count": null,
   "metadata": {},
   "outputs": [],
   "source": [
    "from verisync import transpile\n",
    "#verisync\n",
    "\n",
    "transpile(X[0].flatten().tolist(),\"model.onnx\")\n"
   ]
  }
 ],
 "metadata": {
  "kernelspec": {
   "display_name": "Python 3",
   "language": "python",
   "name": "python3"
  },
  "language_info": {
   "codemirror_mode": {
    "name": "ipython",
    "version": 3
   },
   "file_extension": ".py",
   "mimetype": "text/x-python",
   "name": "python",
   "nbconvert_exporter": "python",
   "pygments_lexer": "ipython3",
   "version": "3.11.6"
  }
 },
 "nbformat": 4,
 "nbformat_minor": 2
}
